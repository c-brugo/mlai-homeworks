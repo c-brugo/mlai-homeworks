{
  "nbformat": 4,
  "nbformat_minor": 0,
  "metadata": {
    "colab": {
      "name": "02_CNN_TL.ipynb",
      "provenance": [],
      "collapsed_sections": []
    },
    "kernelspec": {
      "name": "python3",
      "display_name": "Python 3"
    },
    "accelerator": "GPU",
    "widgets": {
      "application/vnd.jupyter.widget-state+json": {
        "4bb1ea3f3e834f73b68418ef5d49c039": {
          "model_module": "@jupyter-widgets/controls",
          "model_name": "HBoxModel",
          "state": {
            "_view_name": "HBoxView",
            "_dom_classes": [],
            "_model_name": "HBoxModel",
            "_view_module": "@jupyter-widgets/controls",
            "_model_module_version": "1.5.0",
            "_view_count": null,
            "_view_module_version": "1.5.0",
            "box_style": "",
            "layout": "IPY_MODEL_ee6a0b8f4b73484d993cd17271e3ca1c",
            "_model_module": "@jupyter-widgets/controls",
            "children": [
              "IPY_MODEL_671aeeb7be0a40ada3a5a990b0a8ff9d",
              "IPY_MODEL_38361c25e6ca4d899ec5cec0a2508be0"
            ]
          }
        },
        "ee6a0b8f4b73484d993cd17271e3ca1c": {
          "model_module": "@jupyter-widgets/base",
          "model_name": "LayoutModel",
          "state": {
            "_view_name": "LayoutView",
            "grid_template_rows": null,
            "right": null,
            "justify_content": null,
            "_view_module": "@jupyter-widgets/base",
            "overflow": null,
            "_model_module_version": "1.2.0",
            "_view_count": null,
            "flex_flow": null,
            "width": null,
            "min_width": null,
            "border": null,
            "align_items": null,
            "bottom": null,
            "_model_module": "@jupyter-widgets/base",
            "top": null,
            "grid_column": null,
            "overflow_y": null,
            "overflow_x": null,
            "grid_auto_flow": null,
            "grid_area": null,
            "grid_template_columns": null,
            "flex": null,
            "_model_name": "LayoutModel",
            "justify_items": null,
            "grid_row": null,
            "max_height": null,
            "align_content": null,
            "visibility": null,
            "align_self": null,
            "height": null,
            "min_height": null,
            "padding": null,
            "grid_auto_rows": null,
            "grid_gap": null,
            "max_width": null,
            "order": null,
            "_view_module_version": "1.2.0",
            "grid_template_areas": null,
            "object_position": null,
            "object_fit": null,
            "grid_auto_columns": null,
            "margin": null,
            "display": null,
            "left": null
          }
        },
        "671aeeb7be0a40ada3a5a990b0a8ff9d": {
          "model_module": "@jupyter-widgets/controls",
          "model_name": "FloatProgressModel",
          "state": {
            "_view_name": "ProgressView",
            "style": "IPY_MODEL_673711cde8a74986ab515a3b6fc7fa51",
            "_dom_classes": [],
            "description": "100%",
            "_model_name": "FloatProgressModel",
            "bar_style": "success",
            "max": 244418560,
            "_view_module": "@jupyter-widgets/controls",
            "_model_module_version": "1.5.0",
            "value": 244418560,
            "_view_count": null,
            "_view_module_version": "1.5.0",
            "orientation": "horizontal",
            "min": 0,
            "description_tooltip": null,
            "_model_module": "@jupyter-widgets/controls",
            "layout": "IPY_MODEL_7e41df7c1a3c482db4dede3893f29db6"
          }
        },
        "38361c25e6ca4d899ec5cec0a2508be0": {
          "model_module": "@jupyter-widgets/controls",
          "model_name": "HTMLModel",
          "state": {
            "_view_name": "HTMLView",
            "style": "IPY_MODEL_b8ab4650c0414aa4800c5d3d68cf4e05",
            "_dom_classes": [],
            "description": "",
            "_model_name": "HTMLModel",
            "placeholder": "​",
            "_view_module": "@jupyter-widgets/controls",
            "_model_module_version": "1.5.0",
            "value": " 233M/233M [00:03&lt;00:00, 66.7MB/s]",
            "_view_count": null,
            "_view_module_version": "1.5.0",
            "description_tooltip": null,
            "_model_module": "@jupyter-widgets/controls",
            "layout": "IPY_MODEL_e4c1b2da67db41509b67559737bba3ac"
          }
        },
        "673711cde8a74986ab515a3b6fc7fa51": {
          "model_module": "@jupyter-widgets/controls",
          "model_name": "ProgressStyleModel",
          "state": {
            "_view_name": "StyleView",
            "_model_name": "ProgressStyleModel",
            "description_width": "initial",
            "_view_module": "@jupyter-widgets/base",
            "_model_module_version": "1.5.0",
            "_view_count": null,
            "_view_module_version": "1.2.0",
            "bar_color": null,
            "_model_module": "@jupyter-widgets/controls"
          }
        },
        "7e41df7c1a3c482db4dede3893f29db6": {
          "model_module": "@jupyter-widgets/base",
          "model_name": "LayoutModel",
          "state": {
            "_view_name": "LayoutView",
            "grid_template_rows": null,
            "right": null,
            "justify_content": null,
            "_view_module": "@jupyter-widgets/base",
            "overflow": null,
            "_model_module_version": "1.2.0",
            "_view_count": null,
            "flex_flow": null,
            "width": null,
            "min_width": null,
            "border": null,
            "align_items": null,
            "bottom": null,
            "_model_module": "@jupyter-widgets/base",
            "top": null,
            "grid_column": null,
            "overflow_y": null,
            "overflow_x": null,
            "grid_auto_flow": null,
            "grid_area": null,
            "grid_template_columns": null,
            "flex": null,
            "_model_name": "LayoutModel",
            "justify_items": null,
            "grid_row": null,
            "max_height": null,
            "align_content": null,
            "visibility": null,
            "align_self": null,
            "height": null,
            "min_height": null,
            "padding": null,
            "grid_auto_rows": null,
            "grid_gap": null,
            "max_width": null,
            "order": null,
            "_view_module_version": "1.2.0",
            "grid_template_areas": null,
            "object_position": null,
            "object_fit": null,
            "grid_auto_columns": null,
            "margin": null,
            "display": null,
            "left": null
          }
        },
        "b8ab4650c0414aa4800c5d3d68cf4e05": {
          "model_module": "@jupyter-widgets/controls",
          "model_name": "DescriptionStyleModel",
          "state": {
            "_view_name": "StyleView",
            "_model_name": "DescriptionStyleModel",
            "description_width": "",
            "_view_module": "@jupyter-widgets/base",
            "_model_module_version": "1.5.0",
            "_view_count": null,
            "_view_module_version": "1.2.0",
            "_model_module": "@jupyter-widgets/controls"
          }
        },
        "e4c1b2da67db41509b67559737bba3ac": {
          "model_module": "@jupyter-widgets/base",
          "model_name": "LayoutModel",
          "state": {
            "_view_name": "LayoutView",
            "grid_template_rows": null,
            "right": null,
            "justify_content": null,
            "_view_module": "@jupyter-widgets/base",
            "overflow": null,
            "_model_module_version": "1.2.0",
            "_view_count": null,
            "flex_flow": null,
            "width": null,
            "min_width": null,
            "border": null,
            "align_items": null,
            "bottom": null,
            "_model_module": "@jupyter-widgets/base",
            "top": null,
            "grid_column": null,
            "overflow_y": null,
            "overflow_x": null,
            "grid_auto_flow": null,
            "grid_area": null,
            "grid_template_columns": null,
            "flex": null,
            "_model_name": "LayoutModel",
            "justify_items": null,
            "grid_row": null,
            "max_height": null,
            "align_content": null,
            "visibility": null,
            "align_self": null,
            "height": null,
            "min_height": null,
            "padding": null,
            "grid_auto_rows": null,
            "grid_gap": null,
            "max_width": null,
            "order": null,
            "_view_module_version": "1.2.0",
            "grid_template_areas": null,
            "object_position": null,
            "object_fit": null,
            "grid_auto_columns": null,
            "margin": null,
            "display": null,
            "left": null
          }
        }
      }
    }
  },
  "cells": [
    {
      "cell_type": "markdown",
      "metadata": {
        "id": "fo942LMOdlh4"
      },
      "source": [
        "**Import libraries**"
      ]
    },
    {
      "cell_type": "code",
      "metadata": {
        "id": "DokFOdD1dJEl"
      },
      "source": [
        "import os\n",
        "import logging\n",
        "\n",
        "import pandas as pd\n",
        "import matplotlib.pyplot as plt\n",
        "import seaborn as sns; sns.set_theme()\n",
        "\n",
        "import torch\n",
        "import torch.nn as nn\n",
        "import torch.optim as optim\n",
        "from torch.utils.data import Subset, DataLoader\n",
        "from torch.backends import cudnn\n",
        "\n",
        "import torchvision\n",
        "from torchvision import transforms\n",
        "from torchvision.models import alexnet\n",
        "\n",
        "from PIL import Image"
      ],
      "execution_count": 1,
      "outputs": []
    },
    {
      "cell_type": "markdown",
      "metadata": {
        "id": "OIDLJuIXK_vh"
      },
      "source": [
        "**Set Arguments**"
      ]
    },
    {
      "cell_type": "code",
      "metadata": {
        "id": "d5PkYfqfK_SA"
      },
      "source": [
        "DEVICE = 'cuda' # 'cuda' or 'cpu'\n",
        "\n",
        "NUM_CLASSES = 101 # 101 + 1: There is am extra Background class that should be removed \n",
        "\n",
        "BATCH_SIZE = 256     # Higher batch sizes allows for larger learning rates. An empirical heuristic suggests that, when changing\n",
        "                     # the batch size, learning rate should change by the same factor to have comparable results\n",
        "\n",
        "LR = 1e-3            # The initial Learning Rate\n",
        "MOMENTUM = 0.9       # Hyperparameter for SGD, keep this at 0.9 when using SGD\n",
        "WEIGHT_DECAY = 5e-5  # Regularization, you can keep this at the default\n",
        "\n",
        "NUM_EPOCHS = 30      # Total number of training epochs (iterations over dataset)\n",
        "STEP_SIZE = 20       # How many epochs before decreasing learning rate (if using a step-down policy)\n",
        "GAMMA = 0.1          # Multiplicative factor for learning rate step-down\n",
        "\n",
        "LOG_FREQUENCY = 10"
      ],
      "execution_count": 2,
      "outputs": []
    },
    {
      "cell_type": "markdown",
      "metadata": {
        "id": "9gwii0TBHvzh"
      },
      "source": [
        "**Define Data Preprocessing**"
      ]
    },
    {
      "cell_type": "code",
      "metadata": {
        "id": "QUDdw4j2H0Mc"
      },
      "source": [
        "# Define transforms for training phase\n",
        "train_transform = transforms.Compose([transforms.Resize(256),      # Resizes short size of the PIL image to 256\n",
        "                                      transforms.CenterCrop(224),  # Crops a central square patch of the image\n",
        "                                                                   # 224 because torchvision's AlexNet needs a 224x224 input!\n",
        "                                                                   # Remember this when applying different transformations, otherwise you get an error\n",
        "                                      transforms.ToTensor(), # Turn PIL Image to torch.Tensor\n",
        "                                      transforms.Normalize((0.5, 0.5, 0.5), (0.5, 0.5, 0.5)) # Normalizes tensor with mean and standard deviation\n",
        "])\n",
        "# Define transforms for the evaluation phase\n",
        "eval_transform = transforms.Compose([transforms.Resize(256),\n",
        "                                      transforms.CenterCrop(224),\n",
        "                                      transforms.ToTensor(),\n",
        "                                      transforms.Normalize((0.5, 0.5, 0.5), (0.5, 0.5, 0.5))                                    \n",
        "])"
      ],
      "execution_count": 3,
      "outputs": []
    },
    {
      "cell_type": "markdown",
      "metadata": {
        "id": "2qYIHPzYLY7i"
      },
      "source": [
        "**Prepare Dataset**"
      ]
    },
    {
      "cell_type": "code",
      "metadata": {
        "id": "QfVq_uDHLbsR"
      },
      "source": [
        "# Clone github repository with data\n",
        "if not os.path.isdir('./Caltech101'):\n",
        "  !git clone https://github.com/c-brugo/Homework2-Caltech101.git\n",
        "  !mv 'Homework2-Caltech101' 'Caltech101'\n",
        "\n",
        "DATA_DIR = 'Caltech101/101_ObjectCategories'\n",
        "from Caltech101.caltech_dataset import Caltech\n",
        "\n",
        "# Prepare Pytorch train/test Datasets\n",
        "train_dataset = Caltech(DATA_DIR, split='train',  transform=train_transform)\n",
        "test_dataset = Caltech(DATA_DIR, split='test', transform=eval_transform)\n",
        "\n",
        "train_initial_indexes = range(len(train_dataset))\n",
        "train_indexes = train_initial_indexes[::2] # split the indices for your train split\n",
        "val_indexes = train_initial_indexes[1::2] # split the indices for your val split\n",
        "\n",
        "val_dataset = Subset(train_dataset, val_indexes)\n",
        "train_dataset = Subset(train_dataset, train_indexes)\n",
        "\n",
        "\n",
        "\n",
        "# Check dataset sizes\n",
        "print('Train Dataset: {}'.format(len(train_dataset)))\n",
        "print('Valid Dataset: {}'.format(len(val_dataset)))\n",
        "print('Test Dataset: {}'.format(len(test_dataset)))"
      ],
      "execution_count": null,
      "outputs": []
    },
    {
      "cell_type": "markdown",
      "metadata": {
        "id": "FYEDQ7Z21ldN"
      },
      "source": [
        "**Prepare Dataloaders**"
      ]
    },
    {
      "cell_type": "code",
      "metadata": {
        "id": "VriRw8SI1nle"
      },
      "source": [
        "# Dataloaders iterate over pytorch datasets and transparently provide useful functions (e.g. parallelization and shuffling)\n",
        "train_dataloader = DataLoader(train_dataset, batch_size=BATCH_SIZE, shuffle=True, num_workers=4, drop_last=True)\n",
        "val_dataloader = DataLoader(val_dataset, batch_size=BATCH_SIZE, shuffle=False, num_workers=4)\n",
        "\n",
        "test_dataloader = DataLoader(test_dataset, batch_size=BATCH_SIZE, shuffle=False, num_workers=4)"
      ],
      "execution_count": 5,
      "outputs": []
    },
    {
      "cell_type": "markdown",
      "metadata": {
        "id": "EExpV2dzimdH"
      },
      "source": [
        "**Accuracy function**"
      ]
    },
    {
      "cell_type": "code",
      "metadata": {
        "id": "Jbb-_dnVivfW"
      },
      "source": [
        "def calc_accuracy(net, dataloader, dataset):\n",
        "  net = net.to(DEVICE) # this will bring the network to GPU if DEVICE is cuda\n",
        "  net.train(False) # Set Network to evaluation mode\n",
        "\n",
        "  running_corrects = 0\n",
        "  for images, labels in dataloader:\n",
        "    images = images.to(DEVICE)\n",
        "    labels = labels.to(DEVICE)\n",
        "\n",
        "    # Forward Pass\n",
        "    outputs = net(images)\n",
        "\n",
        "    # Get predictions\n",
        "    _, preds = torch.max(outputs.data, 1)\n",
        "\n",
        "    # Update Corrects\n",
        "    running_corrects += torch.sum(preds == labels.data).data.item()\n",
        "\n",
        "  # Calculate Accuracy\n",
        "  if dataloader.drop_last:\n",
        "    accuracy = running_corrects / float(len(dataloader)*BATCH_SIZE)\n",
        "  else:\n",
        "    accuracy = running_corrects / float(len(dataset))\n",
        "  return accuracy\n"
      ],
      "execution_count": 6,
      "outputs": []
    },
    {
      "cell_type": "markdown",
      "metadata": {
        "id": "6BMxP5AtCo9W"
      },
      "source": [
        "# **Base Model**"
      ]
    },
    {
      "cell_type": "markdown",
      "metadata": {
        "id": "gbZ1t5Qs2z4j"
      },
      "source": [
        "**Prepare Network**"
      ]
    },
    {
      "cell_type": "code",
      "metadata": {
        "id": "exHUjtXa22DN"
      },
      "source": [
        "net = alexnet() # Loading AlexNet model\n",
        "\n",
        "# AlexNet has 1000 output neurons, corresponding to the 1000 ImageNet's classes\n",
        "# We need 101 outputs for Caltech-101\n",
        "net.classifier[6] = nn.Linear(4096, NUM_CLASSES) # nn.Linear in pytorch is a fully connected layer\n",
        "                                                 # The convolutional layer is nn.Conv2d\n",
        "\n",
        "# We just changed the last layer of AlexNet with a new fully connected layer with 101 outputs\n",
        "# It is strongly suggested to study torchvision.models.alexnet source code"
      ],
      "execution_count": 7,
      "outputs": []
    },
    {
      "cell_type": "markdown",
      "metadata": {
        "id": "KEyL3H_R4qCf"
      },
      "source": [
        "**Prepare Training**"
      ]
    },
    {
      "cell_type": "code",
      "metadata": {
        "id": "9sjq00G94tSc"
      },
      "source": [
        "# Define loss function\n",
        "criterion = nn.CrossEntropyLoss() # for classification, we use Cross Entropy\n",
        "\n",
        "# Choose parameters to optimize\n",
        "# To access a different set of parameters, you have to access submodules of AlexNet\n",
        "# (nn.Module objects, like AlexNet, implement the Composite Pattern)\n",
        "# e.g.: parameters of the fully connected layers: net.classifier.parameters()\n",
        "# e.g.: parameters of the convolutional layers: look at alexnet's source code ;) \n",
        "parameters_to_optimize = net.parameters() # In this case we optimize over all the parameters of AlexNet\n",
        "\n",
        "# Define optimizer\n",
        "# An optimizer updates the weights based on loss\n",
        "# We use SGD with momentum\n",
        "optimizer = optim.SGD(parameters_to_optimize, lr=LR, momentum=MOMENTUM, weight_decay=WEIGHT_DECAY, nesterov=True)\n",
        "\n",
        "# Define scheduler\n",
        "# A scheduler dynamically changes learning rate\n",
        "# The most common schedule is the step(-down), which multiplies learning rate by gamma every STEP_SIZE epochs\n",
        "scheduler = optim.lr_scheduler.StepLR(optimizer, step_size=STEP_SIZE, gamma=GAMMA)"
      ],
      "execution_count": 8,
      "outputs": []
    },
    {
      "cell_type": "markdown",
      "metadata": {
        "id": "AxYUli9d9uYQ"
      },
      "source": [
        "**Train**"
      ]
    },
    {
      "cell_type": "code",
      "metadata": {
        "colab": {
          "base_uri": "https://localhost:8080/"
        },
        "id": "ZcoQ5fD49yT_",
        "outputId": "706a4d91-262c-4e06-be9c-642aa2b0ba7b"
      },
      "source": [
        "columns = [\"epoch\", \"train_accuracy\", \"val_accuracy\", \"loss\"]\n",
        "\n",
        "\n",
        "base_df = pd.DataFrame(index=range(NUM_EPOCHS), columns=columns)\n",
        "\n",
        "\n",
        "# By default, everything is loaded to cpu\n",
        "net = net.to(DEVICE) # this will bring the network to GPU if DEVICE is cuda\n",
        "\n",
        "cudnn.benchmark # Calling this optimizes runtime\n",
        "\n",
        "current_step = 0\n",
        "# Start iterating over the epochs\n",
        "for epoch in range(NUM_EPOCHS):\n",
        "  if (epoch+1)%5 == 0:\n",
        "      print('Starting epoch {}/{}, LR = {}'.format(epoch+1, NUM_EPOCHS, scheduler.get_last_lr()))\n",
        "  loss_epoch = 0\n",
        "\n",
        "  # Iterate over the dataset\n",
        "  for images, labels in train_dataloader:\n",
        "    # Bring data over the device of choice\n",
        "    images = images.to(DEVICE)\n",
        "    labels = labels.to(DEVICE)\n",
        "\n",
        "    net.train() # Sets module in training mode\n",
        "\n",
        "    # PyTorch, by default, accumulates gradients after each backward pass\n",
        "    # We need to manually set the gradients to zero before starting a new iteration\n",
        "    optimizer.zero_grad() # Zero-ing the gradients\n",
        "\n",
        "    # Forward pass to the network\n",
        "    outputs = net(images)\n",
        "\n",
        "    # Compute loss based on output and ground truth\n",
        "    loss = criterion(outputs, labels)\n",
        "    loss_epoch += loss.item() * images.size(0)\n",
        "\n",
        "\n",
        "    # Compute gradients for each layer and update weights\n",
        "    loss.backward()  # backward pass: computes gradients\n",
        "    optimizer.step() # update weights based on accumulated gradients\n",
        "\n",
        "  base_df[\"epoch\"][epoch] = epoch+1\n",
        "  base_df[\"loss\"][epoch] = loss_epoch/float(len(train_dataloader)*BATCH_SIZE)\n",
        "  base_df[\"train_accuracy\"][epoch] = calc_accuracy(net, train_dataloader, train_dataset)\n",
        "  base_df[\"val_accuracy\"][epoch] = calc_accuracy(net, val_dataloader, val_dataset)\n",
        "  # Step the scheduler\n",
        "  scheduler.step() "
      ],
      "execution_count": 9,
      "outputs": [
        {
          "output_type": "stream",
          "text": [
            "Starting epoch 5/30, LR = [0.001]\n",
            "Starting epoch 10/30, LR = [0.001]\n",
            "Starting epoch 15/30, LR = [0.001]\n",
            "Starting epoch 20/30, LR = [0.001]\n",
            "Starting epoch 25/30, LR = [0.0001]\n",
            "Starting epoch 30/30, LR = [0.0001]\n"
          ],
          "name": "stdout"
        }
      ]
    },
    {
      "cell_type": "markdown",
      "metadata": {
        "id": "xJOf5ucoXDxj"
      },
      "source": [
        "**Accuracy & Loss**"
      ]
    },
    {
      "cell_type": "code",
      "metadata": {
        "colab": {
          "base_uri": "https://localhost:8080/",
          "height": 585
        },
        "id": "oSeq8zVdTi03",
        "outputId": "d068ce11-bb02-40d3-a27c-c863f175bdd0"
      },
      "source": [
        "plt.figure()\n",
        "plt.plot('epoch', 'train_accuracy', data=base_df)\n",
        "plt.plot('epoch', 'val_accuracy', data=base_df)\n",
        "plt.xlabel(\"epoch\")\n",
        "plt.ylabel(\"accuracy\")\n",
        "plt.title(\"Accuracy\")\n",
        "plt.legend()\n",
        "plt.show()\n",
        "  \n",
        "plt.figure()\n",
        "plt.plot('epoch', 'loss', data=base_df)\n",
        "plt.xlabel(\"epoch\")\n",
        "plt.ylabel(\"loss\")\n",
        "plt.title(\"Loss\")\n",
        "plt.show()"
      ],
      "execution_count": 10,
      "outputs": [
        {
          "output_type": "display_data",
          "data": {
            "image/png": "[encoded data removed]",
            "text/plain": [
              "<Figure size 432x288 with 1 Axes>"
            ]
          },
          "metadata": {
            "tags": [],
            "needs_background": "light"
          }
        },
        {
          "output_type": "display_data",
          "data": {
            "image/png": "[encoded data removed]",
            "text/plain": [
              "<Figure size 432x288 with 1 Axes>"
            ]
          },
          "metadata": {
            "tags": [],
            "needs_background": "light"
          }
        }
      ]
    },
    {
      "cell_type": "markdown",
      "metadata": {
        "id": "jxekmR745ySe"
      },
      "source": [
        "**Test**"
      ]
    },
    {
      "cell_type": "code",
      "metadata": {
        "colab": {
          "base_uri": "https://localhost:8080/"
        },
        "id": "fSHcUqLB5yWO",
        "outputId": "d4991f2c-5544-4dab-edfb-13522c983d25"
      },
      "source": [
        "net = net.to(DEVICE) # this will bring the network to GPU if DEVICE is cuda\n",
        "net.train(False) # Set Network to evaluation mode\n",
        "\n",
        "running_corrects = 0\n",
        "for images, labels in test_dataloader:\n",
        "  images = images.to(DEVICE)\n",
        "  labels = labels.to(DEVICE)\n",
        "\n",
        "  # Forward Pass\n",
        "  outputs = net(images)\n",
        "\n",
        "  # Get predictions\n",
        "  _, preds = torch.max(outputs.data, 1)\n",
        "\n",
        "  # Update Corrects\n",
        "  running_corrects += torch.sum(preds == labels.data).data.item()\n",
        "\n",
        "# Calculate Accuracy\n",
        "accuracy = running_corrects / float(len(test_dataset))\n",
        "\n",
        "print('Test Accuracy: {:.2f}%'.format(accuracy*100))"
      ],
      "execution_count": 11,
      "outputs": [
        {
          "output_type": "stream",
          "text": [
            "Test Accuracy: 9.19%\n"
          ],
          "name": "stdout"
        }
      ]
    },
    {
      "cell_type": "markdown",
      "metadata": {
        "id": "-0evWVRTBBZF"
      },
      "source": [
        "# **Transfer Learning**"
      ]
    },
    {
      "cell_type": "markdown",
      "metadata": {
        "id": "Rq6qX46yCxj2"
      },
      "source": [
        "**Data Preprocessing Normalization**"
      ]
    },
    {
      "cell_type": "code",
      "metadata": {
        "id": "EZJJq3t2BlG_"
      },
      "source": [
        "# Define transforms for training phase\n",
        "train_imagenet_transform = transforms.Compose([transforms.Resize(256),      # Resizes short size of the PIL image to 256\n",
        "                                      transforms.CenterCrop(224),  # Crops a central square patch of the image\n",
        "                                                                   # 224 because torchvision's AlexNet needs a 224x224 input!\n",
        "                                                                   # Remember this when applying different transformations, otherwise you get an error\n",
        "                                      transforms.ToTensor(), # Turn PIL Image to torch.Tensor\n",
        "                                      transforms.Normalize((0.485, 0.456, 0.406), (0.229, 0.224, 0.225)) # Normalizes tensor with Imagenet's mean and standard deviation\n",
        "])\n",
        "# Define transforms for the evaluation phase\n",
        "eval_imagenet_transform = transforms.Compose([transforms.Resize(256),\n",
        "                                      transforms.CenterCrop(224),\n",
        "                                      transforms.ToTensor(),\n",
        "                                      transforms.Normalize((0.485, 0.456, 0.406), (0.229, 0.224, 0.225))                                    \n",
        "])\n",
        "\n"
      ],
      "execution_count": 12,
      "outputs": []
    },
    {
      "cell_type": "markdown",
      "metadata": {
        "id": "LsX0Dn54IFL9"
      },
      "source": [
        "**Prepare Dataset and Dataloaders**"
      ]
    },
    {
      "cell_type": "code",
      "metadata": {
        "id": "8R2Xu0JSF201"
      },
      "source": [
        ""
      ],
      "execution_count": 12,
      "outputs": []
    },
    {
      "cell_type": "code",
      "metadata": {
        "id": "vnO-uDqhILxQ",
        "colab": {
          "base_uri": "https://localhost:8080/"
        },
        "outputId": "1cbf0853-e7ef-46a9-abde-007aa01ba142"
      },
      "source": [
        "# Clone github repository with data\n",
        "if not os.path.isdir('./Caltech101_TL'):\n",
        "  !git clone https://github.com/c-brugo/Homework2-Caltech101.git\n",
        "  !mv 'Homework2-Caltech101' 'Caltech101_TL'\n",
        "\n",
        "DATA_DIR = 'Caltech101_TL/101_ObjectCategories'\n",
        "from Caltech101_TL.caltech_dataset import Caltech\n",
        "\n",
        "# Prepare Pytorch train/test Datasets\n",
        "train_dataset = Caltech(DATA_DIR, split='train',  transform=train_imagenet_transform)\n",
        "test_dataset = Caltech(DATA_DIR, split='test', transform=eval_imagenet_transform)\n",
        "\n",
        "train_initial_indexes = range(len(train_dataset))\n",
        "train_indexes = train_initial_indexes[::2] # split the indices for your train split\n",
        "val_indexes = train_initial_indexes[1::2] # split the indices for your val split\n",
        "\n",
        "val_dataset = Subset(train_dataset, val_indexes)\n",
        "train_dataset = Subset(train_dataset, train_indexes)\n",
        "\n",
        "# Dataloaders iterate over pytorch datasets and transparently provide useful functions (e.g. parallelization and shuffling)\n",
        "train_dataloader = DataLoader(train_dataset, batch_size=BATCH_SIZE, shuffle=True, num_workers=4, drop_last=True)\n",
        "val_dataloader = DataLoader(val_dataset, batch_size=BATCH_SIZE, shuffle=False, num_workers=4)\n",
        "\n",
        "test_dataloader = DataLoader(test_dataset, batch_size=BATCH_SIZE, shuffle=False, num_workers=4)"
      ],
      "execution_count": 13,
      "outputs": [
        {
          "output_type": "stream",
          "text": [
            "Cloning into 'Homework2-Caltech101'...\n",
            "remote: Enumerating objects: 12, done.\u001b[K\n",
            "remote: Counting objects:   8% (1/12)\u001b[K\rremote: Counting objects:  16% (2/12)\u001b[K\rremote: Counting objects:  25% (3/12)\u001b[K\rremote: Counting objects:  33% (4/12)\u001b[K\rremote: Counting objects:  41% (5/12)\u001b[K\rremote: Counting objects:  50% (6/12)\u001b[K\rremote: Counting objects:  58% (7/12)\u001b[K\rremote: Counting objects:  66% (8/12)\u001b[K\rremote: Counting objects:  75% (9/12)\u001b[K\rremote: Counting objects:  83% (10/12)\u001b[K\rremote: Counting objects:  91% (11/12)\u001b[K\rremote: Counting objects: 100% (12/12)\u001b[K\rremote: Counting objects: 100% (12/12), done.\u001b[K\n",
            "remote: Compressing objects: 100% (10/10), done.\u001b[K\n",
            "remote: Total 9272 (delta 4), reused 10 (delta 2), pack-reused 9260\u001b[K\n",
            "Receiving objects: 100% (9272/9272), 129.49 MiB | 38.28 MiB/s, done.\n",
            "Resolving deltas: 100% (7/7), done.\n",
            "Checking out files: 100% (9152/9152), done.\n"
          ],
          "name": "stdout"
        }
      ]
    },
    {
      "cell_type": "markdown",
      "metadata": {
        "id": "giDi9OZ7GRuz"
      },
      "source": [
        "# **Pretrained Network - Hyperparameters Experiment 1**\n",
        "\n"
      ]
    },
    {
      "cell_type": "markdown",
      "metadata": {
        "id": "bHYGd8Xmyqwh"
      },
      "source": [
        "**Train**"
      ]
    },
    {
      "cell_type": "code",
      "metadata": {
        "id": "wTp8CjeAG6EN",
        "colab": {
          "base_uri": "https://localhost:8080/",
          "height": 192,
          "referenced_widgets": [
            "4bb1ea3f3e834f73b68418ef5d49c039",
            "ee6a0b8f4b73484d993cd17271e3ca1c",
            "671aeeb7be0a40ada3a5a990b0a8ff9d",
            "38361c25e6ca4d899ec5cec0a2508be0",
            "673711cde8a74986ab515a3b6fc7fa51",
            "7e41df7c1a3c482db4dede3893f29db6",
            "b8ab4650c0414aa4800c5d3d68cf4e05",
            "e4c1b2da67db41509b67559737bba3ac"
          ]
        },
        "outputId": "e52b452a-a3b8-429f-8a2e-84495f2083dd"
      },
      "source": [
        "#AlexNet pretrained\n",
        "net = alexnet(pretrained=True)\n",
        "net.classifier[6] = nn.Linear(4096, NUM_CLASSES)\n",
        "\n",
        "LR_1 = 1e-3\n",
        "STS_1 = 25\n",
        "\n",
        "criterion = nn.CrossEntropyLoss()\n",
        "parameters_to_optimize = net.parameters() # In this case we optimize over all the parameters of AlexNet\n",
        "optimizer = optim.SGD(parameters_to_optimize, lr=LR_1, momentum=MOMENTUM, weight_decay=WEIGHT_DECAY)\n",
        "scheduler = optim.lr_scheduler.StepLR(optimizer, step_size=STS_1, gamma=GAMMA)\n",
        "\n",
        "net = net.to(DEVICE)\n",
        "cudnn.benchmark\n",
        "columns = [\"epoch\", \"train_accuracy\", \"val_accuracy\", \"loss\"]\n",
        "s1_opt_df = pd.DataFrame(index=range(NUM_EPOCHS), columns=columns)\n",
        "\n",
        "for epoch in range(NUM_EPOCHS):\n",
        "  if (epoch+1)%5==0:\n",
        "    print('Starting epoch {}/{}, LR = {}'.format(epoch+1, NUM_EPOCHS, scheduler.get_last_lr()))\n",
        "  loss_epoch = 0\n",
        "  for images, labels in train_dataloader:\n",
        "    images = images.to(DEVICE)\n",
        "    labels = labels.to(DEVICE)\n",
        "\n",
        "    net.train()\n",
        "    optimizer.zero_grad()\n",
        "    outputs = net(images)\n",
        "    loss = criterion(outputs, labels)\n",
        "    loss_epoch += loss.item() * images.size(0)\n",
        "\n",
        "    loss.backward()\n",
        "    optimizer.step()\n",
        "    \n",
        "  s1_opt_df[\"epoch\"][epoch] = epoch+1\n",
        "  s1_opt_df[\"loss\"][epoch] = loss_epoch/float(len(train_dataloader)*BATCH_SIZE)\n",
        "  s1_opt_df[\"train_accuracy\"][epoch] = calc_accuracy(net, train_dataloader, train_dataset)\n",
        "  s1_opt_df[\"val_accuracy\"][epoch] = calc_accuracy(net, val_dataloader, val_dataset)\n",
        "\n",
        "  scheduler.step() "
      ],
      "execution_count": 14,
      "outputs": [
        {
          "output_type": "stream",
          "text": [
            "Downloading: \"https://download.pytorch.org/models/alexnet-owt-4df8aa71.pth\" to /root/.cache/torch/hub/checkpoints/alexnet-owt-4df8aa71.pth\n"
          ],
          "name": "stderr"
        },
        {
          "output_type": "display_data",
          "data": {
            "application/vnd.jupyter.widget-view+json": {
              "model_id": "4bb1ea3f3e834f73b68418ef5d49c039",
              "version_minor": 0,
              "version_major": 2
            },
            "text/plain": [
              "HBox(children=(FloatProgress(value=0.0, max=244418560.0), HTML(value='')))"
            ]
          },
          "metadata": {
            "tags": []
          }
        },
        {
          "output_type": "stream",
          "text": [
            "\n",
            "Starting epoch 5/30, LR = [0.001]\n",
            "Starting epoch 10/30, LR = [0.001]\n",
            "Starting epoch 15/30, LR = [0.001]\n",
            "Starting epoch 20/30, LR = [0.001]\n",
            "Starting epoch 25/30, LR = [0.001]\n",
            "Starting epoch 30/30, LR = [0.0001]\n"
          ],
          "name": "stdout"
        }
      ]
    },
    {
      "cell_type": "markdown",
      "metadata": {
        "id": "7aYpjtNpyzHl"
      },
      "source": [
        "**Accuracy & Loss**"
      ]
    },
    {
      "cell_type": "code",
      "metadata": {
        "id": "AINsdqzuMwt5",
        "colab": {
          "base_uri": "https://localhost:8080/",
          "height": 585
        },
        "outputId": "0571bccd-1860-42a1-ec05-73f681d35050"
      },
      "source": [
        "plt.figure()\n",
        "plt.plot('epoch', 'train_accuracy', data=s1_opt_df)\n",
        "plt.plot('epoch', 'val_accuracy', data=s1_opt_df)\n",
        "plt.xlabel(\"epoch\")\n",
        "plt.ylabel(\"accuracy\")\n",
        "plt.title(\"Accuracy with lr = {} and step_size = {}\".format(LR_1, STS_1))\n",
        "plt.legend()\n",
        "plt.show()\n",
        "  \n",
        "plt.figure()\n",
        "plt.plot('epoch', 'loss', data=s1_opt_df)\n",
        "plt.xlabel(\"epoch\")\n",
        "plt.ylabel(\"loss\")\n",
        "plt.title(\"Loss with lr = {} and step_size = {}\".format(LR_1, STS_1))\n",
        "plt.show()"
      ],
      "execution_count": 15,
      "outputs": [
        {
          "output_type": "display_data",
          "data": {
            "image/png": "[encoded data removed]",
            "text/plain": [
              "<Figure size 432x288 with 1 Axes>"
            ]
          },
          "metadata": {
            "tags": [],
            "needs_background": "light"
          }
        },
        {
          "output_type": "display_data",
          "data": {
            "image/png": "[encoded data removed]",
            "text/plain": [
              "<Figure size 432x288 with 1 Axes>"
            ]
          },
          "metadata": {
            "tags": [],
            "needs_background": "light"
          }
        }
      ]
    },
    {
      "cell_type": "markdown",
      "metadata": {
        "id": "PB2oVteAyh0E"
      },
      "source": [
        "**Test**"
      ]
    },
    {
      "cell_type": "code",
      "metadata": {
        "colab": {
          "base_uri": "https://localhost:8080/"
        },
        "id": "_CrIk1t5yh0J",
        "outputId": "658a3910-a077-4a6c-c655-f21367534512"
      },
      "source": [
        "net = net.to(DEVICE) # this will bring the network to GPU if DEVICE is cuda\n",
        "net.train(False) # Set Network to evaluation mode\n",
        "\n",
        "running_corrects = 0\n",
        "for images, labels in test_dataloader:\n",
        "  images = images.to(DEVICE)\n",
        "  labels = labels.to(DEVICE)\n",
        "\n",
        "  # Forward Pass\n",
        "  outputs = net(images)\n",
        "\n",
        "  # Get predictions\n",
        "  _, preds = torch.max(outputs.data, 1)\n",
        "\n",
        "  # Update Corrects\n",
        "  running_corrects += torch.sum(preds == labels.data).data.item()\n",
        "\n",
        "# Calculate Accuracy\n",
        "accuracy = running_corrects / float(len(test_dataset))\n",
        "\n",
        "print('Test Accuracy: {:.2f}%'.format(accuracy*100))"
      ],
      "execution_count": 16,
      "outputs": [
        {
          "output_type": "stream",
          "text": [
            "Test Accuracy: 83.58%\n"
          ],
          "name": "stdout"
        }
      ]
    },
    {
      "cell_type": "markdown",
      "metadata": {
        "id": "_MNYZWPkLHsa"
      },
      "source": [
        "# **Pretrained Network - Hyperparameters Experiment 2**"
      ]
    },
    {
      "cell_type": "markdown",
      "metadata": {
        "id": "XQjjp4giyr3m"
      },
      "source": [
        "**Train**"
      ]
    },
    {
      "cell_type": "code",
      "metadata": {
        "id": "1DoC0lUoKHyj",
        "colab": {
          "base_uri": "https://localhost:8080/"
        },
        "outputId": "73a1678e-29f5-4098-e6c2-9d37bfdd95d8"
      },
      "source": [
        "#AlexNet pretrained\n",
        "net = alexnet(pretrained=True)\n",
        "net.classifier[6] = nn.Linear(4096, NUM_CLASSES)\n",
        "\n",
        "LR_2 = 5e-3\n",
        "STS_2 = 20\n",
        "\n",
        "criterion = nn.CrossEntropyLoss()\n",
        "parameters_to_optimize = net.parameters() # In this case we optimize over all the parameters of AlexNet\n",
        "optimizer = optim.SGD(parameters_to_optimize, lr=LR_2, momentum=MOMENTUM, weight_decay=WEIGHT_DECAY)\n",
        "scheduler = optim.lr_scheduler.StepLR(optimizer, step_size=STS_2, gamma=GAMMA)\n",
        "\n",
        "net = net.to(DEVICE)\n",
        "cudnn.benchmark\n",
        "\n",
        "columns = [\"epoch\", \"train_accuracy\", \"val_accuracy\", \"loss\"]\n",
        "s2_opt_df = pd.DataFrame(index=range(NUM_EPOCHS), columns=columns)\n",
        "\n",
        "for epoch in range(NUM_EPOCHS):\n",
        "  if (epoch+1)%5==0:\n",
        "    print('Starting epoch {}/{}, LR = {}'.format(epoch+1, NUM_EPOCHS, scheduler.get_last_lr()))\n",
        "  loss_epoch = 0\n",
        "  for images, labels in train_dataloader:\n",
        "    images = images.to(DEVICE)\n",
        "    labels = labels.to(DEVICE)\n",
        "\n",
        "    net.train()\n",
        "    optimizer.zero_grad()\n",
        "    outputs = net(images)\n",
        "    loss = criterion(outputs, labels)\n",
        "    loss_epoch += loss.item() * images.size(0)\n",
        "\n",
        "    loss.backward()\n",
        "    optimizer.step()\n",
        "    \n",
        "  s2_opt_df[\"epoch\"][epoch] = epoch+1\n",
        "  s2_opt_df[\"loss\"][epoch] = loss_epoch/float(len(train_dataloader)*BATCH_SIZE)\n",
        "  s2_opt_df[\"train_accuracy\"][epoch] = calc_accuracy(net, train_dataloader, train_dataset)\n",
        "  s2_opt_df[\"val_accuracy\"][epoch] = calc_accuracy(net, val_dataloader, val_dataset)\n",
        "\n",
        "  scheduler.step() "
      ],
      "execution_count": 17,
      "outputs": [
        {
          "output_type": "stream",
          "text": [
            "Starting epoch 5/30, LR = [0.005]\n",
            "Starting epoch 10/30, LR = [0.005]\n",
            "Starting epoch 15/30, LR = [0.005]\n",
            "Starting epoch 20/30, LR = [0.005]\n",
            "Starting epoch 25/30, LR = [0.0005]\n",
            "Starting epoch 30/30, LR = [0.0005]\n"
          ],
          "name": "stdout"
        }
      ]
    },
    {
      "cell_type": "markdown",
      "metadata": {
        "id": "ifXUAnLOy0M6"
      },
      "source": [
        "**Accuracy & Loss**"
      ]
    },
    {
      "cell_type": "code",
      "metadata": {
        "id": "ZZW9JNbCNv6u",
        "colab": {
          "base_uri": "https://localhost:8080/",
          "height": 585
        },
        "outputId": "660490be-f857-49e3-fb95-e3ea5acbc225"
      },
      "source": [
        "plt.figure()\n",
        "plt.plot('epoch', 'train_accuracy', data=s2_opt_df)\n",
        "plt.plot('epoch', 'val_accuracy', data=s1_opt_df)\n",
        "plt.xlabel(\"epoch\")\n",
        "plt.ylabel(\"accuracy\")\n",
        "plt.title(\"Accuracy with lr = {} and step_size = {}\".format(LR_2, STS_2))\n",
        "plt.legend()\n",
        "plt.show()\n",
        "  \n",
        "plt.figure()\n",
        "plt.plot('epoch', 'loss', data=s2_opt_df)\n",
        "plt.xlabel(\"epoch\")\n",
        "plt.ylabel(\"loss\")\n",
        "plt.title(\"Loss with lr = {} and step_size = {}\".format(LR_2, STS_2))\n",
        "plt.show()"
      ],
      "execution_count": 18,
      "outputs": [
        {
          "output_type": "display_data",
          "data": {
            "image/png": "[encoded data removed]",
            "text/plain": [
              "<Figure size 432x288 with 1 Axes>"
            ]
          },
          "metadata": {
            "tags": [],
            "needs_background": "light"
          }
        },
        {
          "output_type": "display_data",
          "data": {
            "image/png": "[encoded data removed]",
            "text/plain": [
              "<Figure size 432x288 with 1 Axes>"
            ]
          },
          "metadata": {
            "tags": [],
            "needs_background": "light"
          }
        }
      ]
    },
    {
      "cell_type": "markdown",
      "metadata": {
        "id": "FkpVidkkyi8Z"
      },
      "source": [
        "**Test**"
      ]
    },
    {
      "cell_type": "code",
      "metadata": {
        "colab": {
          "base_uri": "https://localhost:8080/"
        },
        "id": "aUehjmx8yi8e",
        "outputId": "8916ca24-cfd9-4cc6-d433-9a9da0e794a2"
      },
      "source": [
        "net = net.to(DEVICE) # this will bring the network to GPU if DEVICE is cuda\n",
        "net.train(False) # Set Network to evaluation mode\n",
        "\n",
        "running_corrects = 0\n",
        "for images, labels in test_dataloader:\n",
        "  images = images.to(DEVICE)\n",
        "  labels = labels.to(DEVICE)\n",
        "\n",
        "  # Forward Pass\n",
        "  outputs = net(images)\n",
        "\n",
        "  # Get predictions\n",
        "  _, preds = torch.max(outputs.data, 1)\n",
        "\n",
        "  # Update Corrects\n",
        "  running_corrects += torch.sum(preds == labels.data).data.item()\n",
        "\n",
        "# Calculate Accuracy\n",
        "accuracy = running_corrects / float(len(test_dataset))\n",
        "\n",
        "print('Test Accuracy: {:.2f}%'.format(accuracy*100))"
      ],
      "execution_count": 19,
      "outputs": [
        {
          "output_type": "stream",
          "text": [
            "Test Accuracy: 84.27%\n"
          ],
          "name": "stdout"
        }
      ]
    },
    {
      "cell_type": "markdown",
      "metadata": {
        "id": "BbXQL8r8LJXE"
      },
      "source": [
        "# **Pretrained Network - Hyperparameters Experiment 3**"
      ]
    },
    {
      "cell_type": "markdown",
      "metadata": {
        "id": "blyaUpiJys7l"
      },
      "source": [
        "**Train**"
      ]
    },
    {
      "cell_type": "code",
      "metadata": {
        "id": "mWw3AfpCKNbH",
        "colab": {
          "base_uri": "https://localhost:8080/"
        },
        "outputId": "23e6145b-d773-47be-b59d-79893ec9d755"
      },
      "source": [
        "#AlexNet pretrained\n",
        "net = alexnet(pretrained=True)\n",
        "net.classifier[6] = nn.Linear(4096, NUM_CLASSES)\n",
        "\n",
        "LR_3 = 1e-2\n",
        "STS_3 = 13\n",
        "\n",
        "criterion = nn.CrossEntropyLoss()\n",
        "parameters_to_optimize = net.parameters() # In this case we optimize over all the parameters of AlexNet\n",
        "optimizer = optim.SGD(parameters_to_optimize, lr=LR_3, momentum=MOMENTUM, weight_decay=WEIGHT_DECAY)\n",
        "scheduler = optim.lr_scheduler.StepLR(optimizer, step_size=STS_3, gamma=GAMMA)\n",
        "\n",
        "net = net.to(DEVICE)\n",
        "cudnn.benchmark\n",
        "columns = [\"epoch\", \"train_accuracy\", \"val_accuracy\", \"loss\"]\n",
        "s3_opt_df = pd.DataFrame(index=range(NUM_EPOCHS), columns=columns)\n",
        "\n",
        "for epoch in range(NUM_EPOCHS):\n",
        "  if (epoch+1)%5==0:\n",
        "    print('Starting epoch {}/{}, LR = {}'.format(epoch+1, NUM_EPOCHS, scheduler.get_last_lr()))\n",
        "  loss_epoch = 0\n",
        "  for images, labels in train_dataloader:\n",
        "    images = images.to(DEVICE)\n",
        "    labels = labels.to(DEVICE)\n",
        "\n",
        "    net.train()\n",
        "    optimizer.zero_grad()\n",
        "    outputs = net(images)\n",
        "    loss = criterion(outputs, labels)\n",
        "    loss_epoch += loss.item() * images.size(0)\n",
        "\n",
        "    loss.backward()\n",
        "    optimizer.step()\n",
        "    \n",
        "  s3_opt_df[\"epoch\"][epoch] = epoch+1\n",
        "  s3_opt_df[\"loss\"][epoch] = loss_epoch/float(len(train_dataloader)*BATCH_SIZE)\n",
        "  s3_opt_df[\"train_accuracy\"][epoch] = calc_accuracy(net, train_dataloader, train_dataset)\n",
        "  s3_opt_df[\"val_accuracy\"][epoch] = calc_accuracy(net, val_dataloader, val_dataset)\n",
        "\n",
        "  scheduler.step() "
      ],
      "execution_count": 20,
      "outputs": [
        {
          "output_type": "stream",
          "text": [
            "Starting epoch 5/30, LR = [0.01]\n",
            "Starting epoch 10/30, LR = [0.01]\n",
            "Starting epoch 15/30, LR = [0.001]\n",
            "Starting epoch 20/30, LR = [0.001]\n",
            "Starting epoch 25/30, LR = [0.001]\n",
            "Starting epoch 30/30, LR = [0.0001]\n"
          ],
          "name": "stdout"
        }
      ]
    },
    {
      "cell_type": "markdown",
      "metadata": {
        "id": "5r7sDJNxy1EP"
      },
      "source": [
        "**Accuracy & Loss**"
      ]
    },
    {
      "cell_type": "code",
      "metadata": {
        "id": "CljNwlqfNw35",
        "colab": {
          "base_uri": "https://localhost:8080/",
          "height": 585
        },
        "outputId": "b47e6ac9-4bbe-4266-d223-86cc19cbc37a"
      },
      "source": [
        "plt.figure()\n",
        "plt.plot('epoch', 'train_accuracy', data=s3_opt_df)\n",
        "plt.plot('epoch', 'val_accuracy', data=s3_opt_df)\n",
        "plt.xlabel(\"epoch\")\n",
        "plt.ylabel(\"accuracy\")\n",
        "plt.title(\"Accuracy with lr = {} and step_size = {}\".format(LR_3, STS_3))\n",
        "plt.legend()\n",
        "plt.show()\n",
        "  \n",
        "plt.figure()\n",
        "plt.plot('epoch', 'loss', data=s3_opt_df)\n",
        "plt.xlabel(\"epoch\")\n",
        "plt.ylabel(\"loss\")\n",
        "plt.title(\"Loss with lr = {} and step_size = {}\".format(LR_3, STS_3))\n",
        "plt.show()"
      ],
      "execution_count": 21,
      "outputs": [
        {
          "output_type": "display_data",
          "data": {
            "image/png": "[encoded data removed]",
            "text/plain": [
              "<Figure size 432x288 with 1 Axes>"
            ]
          },
          "metadata": {
            "tags": [],
            "needs_background": "light"
          }
        },
        {
          "output_type": "display_data",
          "data": {
            "image/png": "[encoded data removed]",
            "text/plain": [
              "<Figure size 432x288 with 1 Axes>"
            ]
          },
          "metadata": {
            "tags": [],
            "needs_background": "light"
          }
        }
      ]
    },
    {
      "cell_type": "markdown",
      "metadata": {
        "id": "pjg1vy2lyj76"
      },
      "source": [
        "**Test**"
      ]
    },
    {
      "cell_type": "code",
      "metadata": {
        "colab": {
          "base_uri": "https://localhost:8080/"
        },
        "id": "gyPJ0__qyj78",
        "outputId": "3d963c71-d8fa-47e1-ba70-94cedda7e401"
      },
      "source": [
        "net = net.to(DEVICE) # this will bring the network to GPU if DEVICE is cuda\n",
        "net.train(False) # Set Network to evaluation mode\n",
        "\n",
        "running_corrects = 0\n",
        "for images, labels in test_dataloader:\n",
        "  images = images.to(DEVICE)\n",
        "  labels = labels.to(DEVICE)\n",
        "\n",
        "  # Forward Pass\n",
        "  outputs = net(images)\n",
        "\n",
        "  # Get predictions\n",
        "  _, preds = torch.max(outputs.data, 1)\n",
        "\n",
        "  # Update Corrects\n",
        "  running_corrects += torch.sum(preds == labels.data).data.item()\n",
        "\n",
        "# Calculate Accuracy\n",
        "accuracy = running_corrects / float(len(test_dataset))\n",
        "\n",
        "print('Test Accuracy: {:.2f}%'.format(accuracy*100))"
      ],
      "execution_count": 22,
      "outputs": [
        {
          "output_type": "stream",
          "text": [
            "Test Accuracy: 84.69%\n"
          ],
          "name": "stdout"
        }
      ]
    },
    {
      "cell_type": "markdown",
      "metadata": {
        "id": "QFhtgYMUZEEr"
      },
      "source": [
        "# **Training on fully connected layers**"
      ]
    },
    {
      "cell_type": "markdown",
      "metadata": {
        "id": "fuY_qErQyuAd"
      },
      "source": [
        "**Train**"
      ]
    },
    {
      "cell_type": "code",
      "metadata": {
        "id": "Vb2exOkWZRRw",
        "colab": {
          "base_uri": "https://localhost:8080/"
        },
        "outputId": "adea462a-cf23-466b-d0c5-bc231af64c86"
      },
      "source": [
        "#AlexNet pretrained\n",
        "net = alexnet(pretrained=True)\n",
        "net.classifier[6] = nn.Linear(4096, NUM_CLASSES)\n",
        "\n",
        "LR = 1e-3\n",
        "STS = 25\n",
        "\n",
        "criterion = nn.CrossEntropyLoss()\n",
        "parameters_to_optimize = net.classifier.parameters() # In this case we optimize over only the fully connected layer\n",
        "optimizer = optim.SGD(parameters_to_optimize, lr=LR, momentum=MOMENTUM, weight_decay=WEIGHT_DECAY)\n",
        "scheduler = optim.lr_scheduler.StepLR(optimizer, step_size=STS, gamma=GAMMA)\n",
        "\n",
        "net = net.to(DEVICE)\n",
        "cudnn.benchmark\n",
        "\n",
        "columns = [\"epoch\", \"train_accuracy\", \"val_accuracy\", \"loss\"]\n",
        "fcl_opt_df = pd.DataFrame(index=range(NUM_EPOCHS), columns=columns)\n",
        "\n",
        "for epoch in range(NUM_EPOCHS):\n",
        "  if (epoch+1)%5==0:\n",
        "    print('Starting epoch {}/{}, LR = {}'.format(epoch+1, NUM_EPOCHS, scheduler.get_last_lr()))\n",
        "  loss_epoch = 0\n",
        "  for images, labels in train_dataloader:\n",
        "    images = images.to(DEVICE)\n",
        "    labels = labels.to(DEVICE)\n",
        "\n",
        "    net.train()\n",
        "    optimizer.zero_grad()\n",
        "    outputs = net(images)\n",
        "    loss = criterion(outputs, labels)\n",
        "    loss_epoch += loss.item() * images.size(0)\n",
        "\n",
        "    loss.backward()\n",
        "    optimizer.step()\n",
        "    \n",
        "  fcl_opt_df[\"epoch\"][epoch] = epoch+1\n",
        "  fcl_opt_df[\"loss\"][epoch] = loss_epoch/float(len(train_dataloader)*BATCH_SIZE)\n",
        "  fcl_opt_df[\"train_accuracy\"][epoch] = calc_accuracy(net, train_dataloader, train_dataset)\n",
        "  fcl_opt_df[\"val_accuracy\"][epoch] = calc_accuracy(net, val_dataloader, val_dataset)\n",
        "\n",
        "  scheduler.step() "
      ],
      "execution_count": 23,
      "outputs": [
        {
          "output_type": "stream",
          "text": [
            "Starting epoch 5/30, LR = [0.001]\n",
            "Starting epoch 10/30, LR = [0.001]\n",
            "Starting epoch 15/30, LR = [0.001]\n",
            "Starting epoch 20/30, LR = [0.001]\n",
            "Starting epoch 25/30, LR = [0.001]\n",
            "Starting epoch 30/30, LR = [0.0001]\n"
          ],
          "name": "stdout"
        }
      ]
    },
    {
      "cell_type": "markdown",
      "metadata": {
        "id": "Gft7_Iqvy10S"
      },
      "source": [
        "**Accuracy & Loss**"
      ]
    },
    {
      "cell_type": "code",
      "metadata": {
        "id": "TdPbLmhchxuB",
        "colab": {
          "base_uri": "https://localhost:8080/",
          "height": 585
        },
        "outputId": "e73260b7-3cba-4e00-d32f-08a06032b84f"
      },
      "source": [
        "plt.figure()\n",
        "plt.plot('epoch', 'train_accuracy', data=fcl_opt_df)\n",
        "plt.plot('epoch', 'val_accuracy', data=fcl_opt_df)\n",
        "plt.xlabel(\"epoch\")\n",
        "plt.ylabel(\"accuracy\")\n",
        "plt.title(\"Accuracy training on Fully Connected Layers\")\n",
        "plt.legend()\n",
        "plt.show()\n",
        "  \n",
        "plt.figure()\n",
        "plt.plot('epoch', 'loss', data=fcl_opt_df)\n",
        "plt.xlabel(\"epoch\")\n",
        "plt.ylabel(\"loss\")\n",
        "plt.title(\"Loss with training on Fully Connected Layers\")\n",
        "plt.show()"
      ],
      "execution_count": 24,
      "outputs": [
        {
          "output_type": "display_data",
          "data": {
            "image/png": "[encoded data removed]",
            "text/plain": [
              "<Figure size 432x288 with 1 Axes>"
            ]
          },
          "metadata": {
            "tags": [],
            "needs_background": "light"
          }
        },
        {
          "output_type": "display_data",
          "data": {
            "image/png": "[encoded data removed]",
            "text/plain": [
              "<Figure size 432x288 with 1 Axes>"
            ]
          },
          "metadata": {
            "tags": [],
            "needs_background": "light"
          }
        }
      ]
    },
    {
      "cell_type": "markdown",
      "metadata": {
        "id": "IdDMdB6myk36"
      },
      "source": [
        "**Test**"
      ]
    },
    {
      "cell_type": "code",
      "metadata": {
        "colab": {
          "base_uri": "https://localhost:8080/"
        },
        "id": "Z-dOiCvYyk3-",
        "outputId": "b844bfd0-6c27-41c3-8a5f-ce7ee6a7f903"
      },
      "source": [
        "net = net.to(DEVICE) # this will bring the network to GPU if DEVICE is cuda\n",
        "net.train(False) # Set Network to evaluation mode\n",
        "\n",
        "running_corrects = 0\n",
        "for images, labels in test_dataloader:\n",
        "  images = images.to(DEVICE)\n",
        "  labels = labels.to(DEVICE)\n",
        "\n",
        "  # Forward Pass\n",
        "  outputs = net(images)\n",
        "\n",
        "  # Get predictions\n",
        "  _, preds = torch.max(outputs.data, 1)\n",
        "\n",
        "  # Update Corrects\n",
        "  running_corrects += torch.sum(preds == labels.data).data.item()\n",
        "\n",
        "# Calculate Accuracy\n",
        "accuracy = running_corrects / float(len(test_dataset))\n",
        "\n",
        "print('Test Accuracy: {:.2f}%'.format(accuracy*100))"
      ],
      "execution_count": 25,
      "outputs": [
        {
          "output_type": "stream",
          "text": [
            "Test Accuracy: 83.20%\n"
          ],
          "name": "stdout"
        }
      ]
    },
    {
      "cell_type": "markdown",
      "metadata": {
        "id": "aoUfQ-k-hX0J"
      },
      "source": [
        "# **Training on convolutional layers**"
      ]
    },
    {
      "cell_type": "markdown",
      "metadata": {
        "id": "I8A6nXhZyuxE"
      },
      "source": [
        "**Train**"
      ]
    },
    {
      "cell_type": "code",
      "metadata": {
        "id": "Zw2ZynGohefM",
        "colab": {
          "base_uri": "https://localhost:8080/"
        },
        "outputId": "d8c54757-f99d-49a5-a30d-4f47690b4129"
      },
      "source": [
        "#AlexNet pretrained\n",
        "net = alexnet(pretrained=True)\n",
        "net.classifier[6] = nn.Linear(4096, NUM_CLASSES)\n",
        "\n",
        "LR = 1e-3\n",
        "STS = 25\n",
        "\n",
        "criterion = nn.CrossEntropyLoss()\n",
        "parameters_plus_lastfc = list(net.features.parameters()) + list(net.classifier[6].parameters())\n",
        "parameters_to_optimize =  (p for p in parameters_plus_lastfc) # In this case we optimize over only the convolutional layer\n",
        "optimizer = optim.SGD(parameters_to_optimize, lr=LR, momentum=MOMENTUM, weight_decay=WEIGHT_DECAY)\n",
        "scheduler = optim.lr_scheduler.StepLR(optimizer, step_size=STS, gamma=GAMMA)\n",
        "\n",
        "net = net.to(DEVICE)\n",
        "cudnn.benchmark\n",
        "\n",
        "columns = [\"epoch\", \"train_accuracy\", \"val_accuracy\", \"loss\"]\n",
        "cvl_opt_df = pd.DataFrame(index=range(NUM_EPOCHS), columns=columns)\n",
        "\n",
        "for epoch in range(NUM_EPOCHS):\n",
        "  if (epoch+1)%5==0:\n",
        "    print('Starting epoch {}/{}, LR = {}'.format(epoch+1, NUM_EPOCHS, scheduler.get_last_lr()))\n",
        "  loss_epoch = 0\n",
        "  for images, labels in train_dataloader:\n",
        "    images = images.to(DEVICE)\n",
        "    labels = labels.to(DEVICE)\n",
        "\n",
        "    net.train()\n",
        "    optimizer.zero_grad()\n",
        "    outputs = net(images)\n",
        "    loss = criterion(outputs, labels)\n",
        "    loss_epoch += loss.item() * images.size(0)\n",
        "\n",
        "    loss.backward()\n",
        "    optimizer.step()\n",
        "    \n",
        "  cvl_opt_df[\"epoch\"][epoch] = epoch+1\n",
        "  cvl_opt_df[\"loss\"][epoch] = loss_epoch/float(len(train_dataloader)*BATCH_SIZE)\n",
        "  cvl_opt_df[\"train_accuracy\"][epoch] = calc_accuracy(net, train_dataloader, train_dataset)\n",
        "  cvl_opt_df[\"val_accuracy\"][epoch] = calc_accuracy(net, val_dataloader, val_dataset)\n",
        "\n",
        "  scheduler.step() "
      ],
      "execution_count": 26,
      "outputs": [
        {
          "output_type": "stream",
          "text": [
            "Starting epoch 5/30, LR = [0.001]\n",
            "Starting epoch 10/30, LR = [0.001]\n",
            "Starting epoch 15/30, LR = [0.001]\n",
            "Starting epoch 20/30, LR = [0.001]\n",
            "Starting epoch 25/30, LR = [0.001]\n",
            "Starting epoch 30/30, LR = [0.0001]\n"
          ],
          "name": "stdout"
        }
      ]
    },
    {
      "cell_type": "markdown",
      "metadata": {
        "id": "kzKisJWpy2oD"
      },
      "source": [
        "**Accuracy & Loss**"
      ]
    },
    {
      "cell_type": "code",
      "metadata": {
        "id": "al54eICViXzi",
        "colab": {
          "base_uri": "https://localhost:8080/",
          "height": 585
        },
        "outputId": "8c1f86a0-a440-499a-8fd3-8fe7976c0923"
      },
      "source": [
        "plt.figure()\n",
        "plt.plot('epoch', 'train_accuracy', data=cvl_opt_df)\n",
        "plt.plot('epoch', 'val_accuracy', data=cvl_opt_df)\n",
        "plt.xlabel(\"epoch\")\n",
        "plt.ylabel(\"accuracy\")\n",
        "plt.title(\"Accuracy training on Convolutional Layers\")\n",
        "plt.legend()\n",
        "plt.show()\n",
        "  \n",
        "plt.figure()\n",
        "plt.plot('epoch', 'loss', data=cvl_opt_df)\n",
        "plt.xlabel(\"epoch\")\n",
        "plt.ylabel(\"loss\")\n",
        "plt.title(\"Loss with training on Convolutional Layers\")\n",
        "plt.show()"
      ],
      "execution_count": 27,
      "outputs": [
        {
          "output_type": "display_data",
          "data": {
            "image/png": "[encoded data removed]",
            "text/plain": [
              "<Figure size 432x288 with 1 Axes>"
            ]
          },
          "metadata": {
            "tags": [],
            "needs_background": "light"
          }
        },
        {
          "output_type": "display_data",
          "data": {
            "image/png": "[encoded data removed]",
            "text/plain": [
              "<Figure size 432x288 with 1 Axes>"
            ]
          },
          "metadata": {
            "tags": [],
            "needs_background": "light"
          }
        }
      ]
    },
    {
      "cell_type": "markdown",
      "metadata": {
        "id": "ihBLvJogymAL"
      },
      "source": [
        "**Test**"
      ]
    },
    {
      "cell_type": "code",
      "metadata": {
        "colab": {
          "base_uri": "https://localhost:8080/"
        },
        "id": "ApwBdWuDymAR",
        "outputId": "1ba07dab-109e-43fc-af95-c8cd172aad67"
      },
      "source": [
        "net = net.to(DEVICE) # this will bring the network to GPU if DEVICE is cuda\n",
        "net.train(False) # Set Network to evaluation mode\n",
        "\n",
        "running_corrects = 0\n",
        "for images, labels in test_dataloader:\n",
        "  images = images.to(DEVICE)\n",
        "  labels = labels.to(DEVICE)\n",
        "\n",
        "  # Forward Pass\n",
        "  outputs = net(images)\n",
        "\n",
        "  # Get predictions\n",
        "  _, preds = torch.max(outputs.data, 1)\n",
        "\n",
        "  # Update Corrects\n",
        "  running_corrects += torch.sum(preds == labels.data).data.item()\n",
        "\n",
        "# Calculate Accuracy\n",
        "accuracy = running_corrects / float(len(test_dataset))\n",
        "\n",
        "print('Test Accuracy: {:.2f}%'.format(accuracy*100))"
      ],
      "execution_count": 28,
      "outputs": [
        {
          "output_type": "stream",
          "text": [
            "Test Accuracy: 82.03%\n"
          ],
          "name": "stdout"
        }
      ]
    }
  ]
}